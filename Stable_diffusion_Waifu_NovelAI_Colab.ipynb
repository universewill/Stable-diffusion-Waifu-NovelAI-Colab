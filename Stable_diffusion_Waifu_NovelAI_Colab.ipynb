{
  "nbformat": 4,
  "nbformat_minor": 0,
  "metadata": {
    "colab": {
      "provenance": [],
      "collapsed_sections": [],
      "authorship_tag": "ABX9TyMWGkL/xsQKh0uFoOeoy7u1",
      "include_colab_link": true
    },
    "kernelspec": {
      "name": "python3",
      "display_name": "Python 3"
    },
    "language_info": {
      "name": "python"
    }
  },
  "cells": [
    {
      "cell_type": "markdown",
      "metadata": {
        "id": "view-in-github",
        "colab_type": "text"
      },
      "source": [
        "<a href=\"https://colab.research.google.com/github/Wangs-offical/Stable-diffusion-Waifu-NovelAI-Colab/blob/main/Stable_diffusion_Waifu_NovelAI_Colab.ipynb\" target=\"_parent\"><img src=\"https://colab.research.google.com/assets/colab-badge.svg\" alt=\"Open In Colab\"/></a>"
      ]
    },
    {
      "cell_type": "code",
      "source": [
        "#@title  1.1 拉取项目\n",
        "#从Github上拉取项目,需要连接到云端硬盘\n",
        "\n",
        "from google.colab import drive\n",
        "drive.mount('/content/drive')\n",
        "#连接到云端硬盘\n",
        "\n",
        "!mkdir ./drive/MyDrive/sdwn_files #建个目录\n",
        "!git clone https://github.com/Wangs-offical/Stable-diffusion-Waifu-NovelAI-Colab.git ./drive/MyDrive/sdwn_files #克隆存储库\n"
      ],
      "metadata": {
        "id": "edTJ1_hHOYGf",
        "colab": {
          "base_uri": "https://localhost:8080/"
        },
        "outputId": "6d40a992-a85a-4bbf-fbb9-2a90967a5195"
      },
      "execution_count": null,
      "outputs": [
        {
          "output_type": "stream",
          "name": "stdout",
          "text": [
            "Drive already mounted at /content/drive; to attempt to forcibly remount, call drive.mount(\"/content/drive\", force_remount=True).\n",
            "Cloning into './drive/MyDrive/sdwn_files'...\n",
            "remote: Enumerating objects: 30, done.\u001b[K\n",
            "remote: Counting objects: 100% (30/30), done.\u001b[K\n",
            "remote: Compressing objects: 100% (23/23), done.\u001b[K\n",
            "remote: Total 30 (delta 8), reused 0 (delta 0), pack-reused 0\u001b[K\n",
            "Unpacking objects: 100% (30/30), done.\n"
          ]
        }
      ]
    },
    {
      "cell_type": "code",
      "source": [
        "#@title 1.2 解压\n",
        "\n",
        "!unzip /content/drive/MyDrive/sdwn_files/diffusers_paddle.zip -d /content/drive/MyDrive/sdwn_files\n",
        "!unzip /content/drive/MyDrive/sdwn_files/sd-concepts-library.zip -d /content/drive/MyDrive/sdwn_files\n",
        "\n",
        "#解压两个文件"
      ],
      "metadata": {
        "id": "XVd280NkQkIC"
      },
      "execution_count": null,
      "outputs": []
    },
    {
      "cell_type": "code",
      "source": [
        "#@title 1.3 安装文件\n",
        "\n",
        "print('正在安装库')\n",
        "!pip install --upgrade pip  -i https://mirror.baidu.com/pypi/simple\n",
        "!pip install -U fastcore paddlenlp ftfy regex --user\n",
        "!pip install --upgrade paddlenlp\n",
        "!pip install paddlehub==1.6.0\n",
        "!pip install common\n",
        "!pip install dual\n",
        "!pip install tight\n",
        "!pip install data\n",
        "!pip install prox\n",
        "!pip install paddle\n",
        "!pip install paddlepaddle"
      ],
      "metadata": {
        "id": "DMPUf9EgQ3bF"
      },
      "execution_count": null,
      "outputs": []
    },
    {
      "cell_type": "code",
      "source": [
        "#@title 3.1 下载及解压SD预训练模型及waifu模型\n",
        "\n",
        "import os\n",
        "if not os.path.exists(\"CompVis-stable-diffusion-v1-4\"):\n",
        "    !wget https://paddlenlp.bj.bcebos.com/models/community/CompVis/stable-diffusion-v1-4/CompVis-stable-diffusion-v1-4.tar.gz\n",
        "    !tar -zxvf CompVis-stable-diffusion-v1-4.tar.gz -C /content/drive/MyDrive/sdwn_files\n",
        "    !rm -rf CompVis-stable-diffusion-v1-4.tar.gz\n",
        "if not os.path.exists(\"waifu-diffusion\"):\n",
        "    !wget http://bj.bcebos.com/paddlenlp/models/community/hakurei/waifu-diffusion/waifu-diffusion.tar.gz #waifu-diffusion-v1-2\n",
        "    !tar -zxvf waifu-diffusion.tar.gz -C /content/drive/MyDrive/sdwn_files\n",
        "    !rm -rf waifu-diffusion.tar.gz\n",
        "    #!wget https://paddlenlp.bj.bcebos.com/models/community/hakurei/waifu-diffusion/waifu-diffusion-v1-3.tar.gz #waifu-diffusion-v1-3 注意下面移动和解压\n",
        "    #!tar -zxvf waifu-diffusion-v1-3.tar.gz -C /content/drive/MyDrive/sdwn_files\n",
        "    #!rm -rf waifu-diffusion-v1-3.tar.gz   \n",
        "# if not os.path.exists(\"trinart_stable_diffusion_v2_95k\"):\n",
        "#     !wget http://bj.bcebos.com/paddlenlp/models/community/naclbit/trinart_stable_diffusion_v2/trinart_stable_diffusion_v2_95k.tar.gz\n",
        "#     !tar -zxvf trinart_stable_diffusion_v2_95k.tar.gz -C /content/drive/MyDrive/sdwn_files\n",
        "#     !rm -rf trinart_stable_diffusion_v2_95k.tar.gz"
      ],
      "metadata": {
        "id": "RYJBDIy1TpmO"
      },
      "execution_count": null,
      "outputs": []
    },
    {
      "cell_type": "markdown",
      "source": [
        "**下一次来就运行下面的代码就好**"
      ],
      "metadata": {
        "id": "dx3dFjkTfZwp"
      }
    },
    {
      "cell_type": "code",
      "source": [
        "#@title ###连接到云端硬盘,还得重安装一遍库\n",
        "from google.colab import drive\n",
        "drive.mount('/content/drive')\n",
        "\n",
        "print('正在安装库')\n",
        "!pip install --upgrade pip  -i https://mirror.baidu.com/pypi/simple\n",
        "!pip install -U fastcore paddlenlp ftfy regex --user\n",
        "!pip install --upgrade paddlenlp\n",
        "!pip install paddlehub==1.6.0\n",
        "!pip install common\n",
        "!pip install dual\n",
        "!pip install tight\n",
        "!pip install data\n",
        "!pip install prox\n",
        "!pip install paddle\n",
        "!pip install paddlepaddle"
      ],
      "metadata": {
        "id": "-25C51gvfTRq"
      },
      "execution_count": null,
      "outputs": []
    },
    {
      "cell_type": "markdown",
      "source": [
        "\n",
        "\n",
        "---\n",
        "\n"
      ],
      "metadata": {
        "id": "OwGLXCGGfcum"
      }
    },
    {
      "cell_type": "code",
      "source": [
        "!python /content/drive/MyDrive/sdwn_files/main.py"
      ],
      "metadata": {
        "colab": {
          "base_uri": "https://localhost:8080/"
        },
        "id": "hZBFnQZ3feVX",
        "outputId": "0be0fb10-1809-44c5-e021-73537c88156d"
      },
      "execution_count": null,
      "outputs": [
        {
          "output_type": "stream",
          "name": "stdout",
          "text": [
            "Traceback (most recent call last):\n",
            "  File \"/content/drive/MyDrive/sdwn_files/main.py\", line 8, in <module>\n",
            "    pipe = StableDiffusionPipeline.from_pretrained(\"./CompVis-stable-diffusion-v1-4\") # 加载SD默认权重\n",
            "  File \"/content/drive/MyDrive/sdwn_files/diffusers_paddle/pipeline_utils.py\", line 295, in from_pretrained\n",
            "    revision=revision,\n",
            "  File \"/root/.local/lib/python3.7/site-packages/huggingface_hub/utils/_deprecation.py\", line 98, in inner_f\n",
            "    return f(*args, **kwargs)\n",
            "  File \"/root/.local/lib/python3.7/site-packages/huggingface_hub/utils/_validators.py\", line 92, in _inner_fn\n",
            "    validate_repo_id(arg_value)\n",
            "  File \"/root/.local/lib/python3.7/site-packages/huggingface_hub/utils/_validators.py\", line 143, in validate_repo_id\n",
            "    \"Repo id must use alphanumeric chars or '-', '_', '.', '--' and '..' are\"\n",
            "huggingface_hub.utils._validators.HFValidationError: Repo id must use alphanumeric chars or '-', '_', '.', '--' and '..' are forbidden, '-' and '.' cannot start or end the name, max length is 96: './CompVis-stable-diffusion-v1-4'.\n"
          ]
        }
      ]
    }
  ]
}